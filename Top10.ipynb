{
 "cells": [
  {
   "cell_type": "code",
   "execution_count": 1,
   "metadata": {},
   "outputs": [
    {
     "name": "stderr",
     "output_type": "stream",
     "text": [
      "C:\\Users\\85068\\anaconda3\\lib\\site-packages\\IPython\\core\\interactiveshell.py:3165: DtypeWarning: Columns (20,31,32) have mixed types.Specify dtype option on import or set low_memory=False.\n",
      "  has_raised = await self.run_ast_nodes(code_ast.body, cell_name,\n"
     ]
    }
   ],
   "source": [
    "import pandas as pd\n",
    "import numpy as np\n",
    "\n",
    "#File Pathway\n",
    "file_name = '311_Service_Requests_2020.csv'\n",
    "\n",
    "#Read the file\n",
    "df = pd.read_csv(file_name)"
   ]
  },
  {
   "cell_type": "code",
   "execution_count": 17,
   "metadata": {},
   "outputs": [],
   "source": [
    "#Keep rows that doesn't have NA\n",
    "df = df[df['Incident Zip'].notna()]"
   ]
  },
  {
   "cell_type": "code",
   "execution_count": 18,
   "metadata": {},
   "outputs": [],
   "source": [
    "#Conver the column from float to integer\n",
    "df['Incident Zip'] = df['Incident Zip'].astype(int)"
   ]
  },
  {
   "cell_type": "code",
   "execution_count": 6,
   "metadata": {},
   "outputs": [],
   "source": [
    "#Define Zip code and filter data\n",
    "zip_code = 11101\n",
    "df_11101 = df[df['Incident Zip'] == zip_code]"
   ]
  },
  {
   "cell_type": "code",
   "execution_count": 10,
   "metadata": {},
   "outputs": [
    {
     "name": "stderr",
     "output_type": "stream",
     "text": [
      "<ipython-input-10-2e32f6480d79>:2: SettingWithCopyWarning: \n",
      "A value is trying to be set on a copy of a slice from a DataFrame.\n",
      "Try using .loc[row_indexer,col_indexer] = value instead\n",
      "\n",
      "See the caveats in the documentation: https://pandas.pydata.org/pandas-docs/stable/user_guide/indexing.html#returning-a-view-versus-a-copy\n",
      "  df_11101['Created Date'] = pd.to_datetime(df_11101['Created Date'])\n"
     ]
    }
   ],
   "source": [
    "#Convert the column into datetime\n",
    "df_11101['Created Date'] = pd.to_datetime(df_11101['Created Date'])"
   ]
  },
  {
   "cell_type": "code",
   "execution_count": 11,
   "metadata": {},
   "outputs": [
    {
     "name": "stderr",
     "output_type": "stream",
     "text": [
      "<ipython-input-11-d0140f094cbf>:2: SettingWithCopyWarning: \n",
      "A value is trying to be set on a copy of a slice from a DataFrame.\n",
      "Try using .loc[row_indexer,col_indexer] = value instead\n",
      "\n",
      "See the caveats in the documentation: https://pandas.pydata.org/pandas-docs/stable/user_guide/indexing.html#returning-a-view-versus-a-copy\n",
      "  df_11101['Year'] = df_11101['Created Date'].dt.year\n"
     ]
    }
   ],
   "source": [
    "#Extract the year from the date\n",
    "df_11101['Year'] = df_11101['Created Date'].dt.year"
   ]
  },
  {
   "cell_type": "code",
   "execution_count": 12,
   "metadata": {},
   "outputs": [],
   "source": [
    "#Make sure all the incidents are in 2020\n",
    "df_11101_2020 = df_11101[df_11101['Year'] == 2020]"
   ]
  },
  {
   "cell_type": "code",
   "execution_count": 13,
   "metadata": {},
   "outputs": [],
   "source": [
    "top10_int64 = df_11101_2020['Complaint Type'].value_counts()"
   ]
  },
  {
   "cell_type": "code",
   "execution_count": 14,
   "metadata": {},
   "outputs": [],
   "source": [
    "#Loop over the result of value_counts and concatenate label and its value\n",
    "names = []\n",
    "counts = []\n",
    "for idx, name in enumerate(df_11101_2020['Complaint Type'].value_counts().index.tolist()):\n",
    "    counts.append(df_11101_2020['Complaint Type'].value_counts()[idx])\n",
    "    names.append(name)"
   ]
  },
  {
   "cell_type": "code",
   "execution_count": 15,
   "metadata": {},
   "outputs": [
    {
     "name": "stdout",
     "output_type": "stream",
     "text": [
      "Illegal Parking                        2982\n",
      "Noise - Residential                    2030\n",
      "Noise - Street/Sidewalk                1220\n",
      "Blocked Driveway                       1034\n",
      "Non-Emergency Police Matter             904\n",
      "Street Condition                        670\n",
      "NonCompliance with Phased Reopening     649\n",
      "Noise                                   608\n",
      "Noise - Commercial                      512\n",
      "Noise - Vehicle                         374\n",
      "dtype: int64\n"
     ]
    }
   ],
   "source": [
    "#Turn list into Pandas Series\n",
    "result = pd.Series(counts, index=names)\n",
    "top10 = result.iloc[:10]\n",
    "print(top10)"
   ]
  },
  {
   "cell_type": "code",
   "execution_count": 16,
   "metadata": {},
   "outputs": [
    {
     "name": "stdout",
     "output_type": "stream",
     "text": [
      "<class 'pandas.core.series.Series'>\n"
     ]
    }
   ],
   "source": [
    "#Checking type of top10\n",
    "print(type(top10))"
   ]
  }
 ],
 "metadata": {
  "interpreter": {
   "hash": "77d992554a5468a09cee7487f37977566afff6a1ac842cf4d80d2fd2fbfc97db"
  },
  "kernelspec": {
   "display_name": "Python 3.8.8 64-bit ('base': conda)",
   "language": "python",
   "name": "python3"
  },
  "language_info": {
   "codemirror_mode": {
    "name": "ipython",
    "version": 3
   },
   "file_extension": ".py",
   "mimetype": "text/x-python",
   "name": "python",
   "nbconvert_exporter": "python",
   "pygments_lexer": "ipython3",
   "version": "3.8.8"
  },
  "orig_nbformat": 4
 },
 "nbformat": 4,
 "nbformat_minor": 2
}
